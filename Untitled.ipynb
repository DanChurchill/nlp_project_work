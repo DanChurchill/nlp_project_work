{
 "cells": [
  {
   "cell_type": "code",
   "execution_count": 1,
   "id": "6eefc211",
   "metadata": {},
   "outputs": [
    {
     "ename": "IndexError",
     "evalue": "list index out of range",
     "output_type": "error",
     "traceback": [
      "\u001b[0;31m---------------------------------------------------------------------------\u001b[0m",
      "\u001b[0;31mIndexError\u001b[0m                                Traceback (most recent call last)",
      "Input \u001b[0;32mIn [1]\u001b[0m, in \u001b[0;36m<cell line: 1>\u001b[0;34m()\u001b[0m\n\u001b[0;32m----> 1\u001b[0m \u001b[38;5;28;01mimport\u001b[39;00m \u001b[38;5;21;01macquire\u001b[39;00m\n\u001b[1;32m      2\u001b[0m \u001b[38;5;28;01mimport\u001b[39;00m \u001b[38;5;21;01mpandas\u001b[39;00m \u001b[38;5;28;01mas\u001b[39;00m \u001b[38;5;21;01mpd\u001b[39;00m\n\u001b[1;32m      3\u001b[0m \u001b[38;5;28;01mimport\u001b[39;00m \u001b[38;5;21;01mnumpy\u001b[39;00m \u001b[38;5;28;01mas\u001b[39;00m \u001b[38;5;21;01mnp\u001b[39;00m\n",
      "File \u001b[0;32m~/codeup-data-science/nlp_project_work/acquire.py:63\u001b[0m, in \u001b[0;36m<module>\u001b[0;34m\u001b[0m\n\u001b[1;32m     58\u001b[0m             suffix_list\u001b[38;5;241m.\u001b[39mappend(suffix)\n\u001b[1;32m     60\u001b[0m     \u001b[38;5;28;01mreturn\u001b[39;00m suffix_list\n\u001b[0;32m---> 63\u001b[0m REPOS \u001b[38;5;241m=\u001b[39m \u001b[43mget_repos\u001b[49m\u001b[43m(\u001b[49m\u001b[43m)\u001b[49m\n\u001b[1;32m     65\u001b[0m \u001b[38;5;28;01mdef\u001b[39;00m \u001b[38;5;21mgithub_api_request\u001b[39m(url: \u001b[38;5;28mstr\u001b[39m) \u001b[38;5;241m-\u001b[39m\u001b[38;5;241m>\u001b[39m Union[List, Dict]:\n\u001b[1;32m     66\u001b[0m     response \u001b[38;5;241m=\u001b[39m requests\u001b[38;5;241m.\u001b[39mget(url, headers\u001b[38;5;241m=\u001b[39mheaders)\n",
      "File \u001b[0;32m~/codeup-data-science/nlp_project_work/acquire.py:47\u001b[0m, in \u001b[0;36mget_repos\u001b[0;34m()\u001b[0m\n\u001b[1;32m     45\u001b[0m     soup \u001b[38;5;241m=\u001b[39m BeautifulSoup(response\u001b[38;5;241m.\u001b[39mcontent, \u001b[38;5;124m'\u001b[39m\u001b[38;5;124mhtml.parser\u001b[39m\u001b[38;5;124m'\u001b[39m)\n\u001b[1;32m     46\u001b[0m     \u001b[38;5;28;01mfor\u001b[39;00m i \u001b[38;5;129;01min\u001b[39;00m \u001b[38;5;28mrange\u001b[39m (\u001b[38;5;241m0\u001b[39m,\u001b[38;5;241m10\u001b[39m):\n\u001b[0;32m---> 47\u001b[0m         suffix \u001b[38;5;241m=\u001b[39m \u001b[43msoup\u001b[49m\u001b[38;5;241;43m.\u001b[39;49m\u001b[43mselect\u001b[49m\u001b[43m(\u001b[49m\u001b[38;5;124;43m'\u001b[39;49m\u001b[38;5;124;43ma.v-align-middle\u001b[39;49m\u001b[38;5;124;43m'\u001b[39;49m\u001b[43m)\u001b[49m\u001b[43m[\u001b[49m\u001b[43mi\u001b[49m\u001b[43m]\u001b[49m[\u001b[38;5;124m'\u001b[39m\u001b[38;5;124mhref\u001b[39m\u001b[38;5;124m'\u001b[39m][\u001b[38;5;241m1\u001b[39m:\u001b[38;5;241m0\u001b[39m]\n\u001b[1;32m     48\u001b[0m         suffix_list\u001b[38;5;241m.\u001b[39mappend(suffix)\n\u001b[1;32m     50\u001b[0m time\u001b[38;5;241m.\u001b[39msleep(\u001b[38;5;241m121\u001b[39m)\n",
      "\u001b[0;31mIndexError\u001b[0m: list index out of range"
     ]
    }
   ],
   "source": [
    "import acquire\n",
    "import pandas as pd\n",
    "import numpy as np\n"
   ]
  },
  {
   "cell_type": "code",
   "execution_count": null,
   "id": "721eb432",
   "metadata": {},
   "outputs": [],
   "source": [
    "df = acquire.scrape_github_data()"
   ]
  },
  {
   "cell_type": "code",
   "execution_count": null,
   "id": "2669c3f3",
   "metadata": {
    "scrolled": true
   },
   "outputs": [],
   "source": []
  },
  {
   "cell_type": "code",
   "execution_count": null,
   "id": "ced0e5e0",
   "metadata": {},
   "outputs": [],
   "source": []
  },
  {
   "cell_type": "code",
   "execution_count": 12,
   "id": "2aafeae8",
   "metadata": {
    "scrolled": true
   },
   "outputs": [
    {
     "data": {
      "text/html": [
       "<div>\n",
       "<style scoped>\n",
       "    .dataframe tbody tr th:only-of-type {\n",
       "        vertical-align: middle;\n",
       "    }\n",
       "\n",
       "    .dataframe tbody tr th {\n",
       "        vertical-align: top;\n",
       "    }\n",
       "\n",
       "    .dataframe thead th {\n",
       "        text-align: right;\n",
       "    }\n",
       "</style>\n",
       "<table border=\"1\" class=\"dataframe\">\n",
       "  <thead>\n",
       "    <tr style=\"text-align: right;\">\n",
       "      <th></th>\n",
       "      <th>repo</th>\n",
       "      <th>language</th>\n",
       "      <th>readme_contents</th>\n",
       "    </tr>\n",
       "  </thead>\n",
       "  <tbody>\n",
       "    <tr>\n",
       "      <th>0</th>\n",
       "      <td>gocodeup/codeup-setup-script</td>\n",
       "      <td>Shell</td>\n",
       "      <td># Codeup Setup Script\\n\\nSetup script for Code...</td>\n",
       "    </tr>\n",
       "    <tr>\n",
       "      <th>1</th>\n",
       "      <td>gocodeup/movies-application</td>\n",
       "      <td>JavaScript</td>\n",
       "      <td># Movies Application\\n\\nFor this project, we w...</td>\n",
       "    </tr>\n",
       "    <tr>\n",
       "      <th>2</th>\n",
       "      <td>torvalds/linux</td>\n",
       "      <td>C</td>\n",
       "      <td>Linux kernel\\n============\\n\\nThere are severa...</td>\n",
       "    </tr>\n",
       "  </tbody>\n",
       "</table>\n",
       "</div>"
      ],
      "text/plain": [
       "                           repo    language  \\\n",
       "0  gocodeup/codeup-setup-script       Shell   \n",
       "1   gocodeup/movies-application  JavaScript   \n",
       "2                torvalds/linux           C   \n",
       "\n",
       "                                     readme_contents  \n",
       "0  # Codeup Setup Script\\n\\nSetup script for Code...  \n",
       "1  # Movies Application\\n\\nFor this project, we w...  \n",
       "2  Linux kernel\\n============\\n\\nThere are severa...  "
      ]
     },
     "execution_count": 12,
     "metadata": {},
     "output_type": "execute_result"
    }
   ],
   "source": [
    "pd.DataFrame(df)"
   ]
  },
  {
   "cell_type": "code",
   "execution_count": 7,
   "id": "40b21c90",
   "metadata": {},
   "outputs": [],
   "source": []
  },
  {
   "cell_type": "code",
   "execution_count": null,
   "id": "914e47db",
   "metadata": {},
   "outputs": [],
   "source": []
  },
  {
   "cell_type": "code",
   "execution_count": null,
   "id": "f5e4cea4",
   "metadata": {},
   "outputs": [],
   "source": []
  },
  {
   "cell_type": "code",
   "execution_count": null,
   "id": "45d4984e",
   "metadata": {},
   "outputs": [],
   "source": []
  },
  {
   "cell_type": "code",
   "execution_count": null,
   "id": "6fc7dc50",
   "metadata": {},
   "outputs": [],
   "source": []
  },
  {
   "cell_type": "code",
   "execution_count": 3,
   "id": "5d88ba33",
   "metadata": {},
   "outputs": [],
   "source": [
    "base = 'https://github.com/search?p='\n",
    "end = '&q=business'\n",
    "headers = {\"Authorization\": f\"token {env.github_token}\", \"User-Agent\": env.github_username}\n"
   ]
  },
  {
   "cell_type": "code",
   "execution_count": null,
   "id": "374a19ba",
   "metadata": {},
   "outputs": [],
   "source": []
  },
  {
   "cell_type": "code",
   "execution_count": 3,
   "id": "631e22cb",
   "metadata": {},
   "outputs": [
    {
     "ename": "NameError",
     "evalue": "name 'page' is not defined",
     "output_type": "error",
     "traceback": [
      "\u001b[0;31m---------------------------------------------------------------------------\u001b[0m",
      "\u001b[0;31mNameError\u001b[0m                                 Traceback (most recent call last)",
      "Input \u001b[0;32mIn [3]\u001b[0m, in \u001b[0;36m<cell line: 1>\u001b[0;34m()\u001b[0m\n\u001b[0;32m----> 1\u001b[0m base\u001b[38;5;241m+\u001b[39m\u001b[43mpage\u001b[49m\u001b[38;5;241m+\u001b[39mend\n",
      "\u001b[0;31mNameError\u001b[0m: name 'page' is not defined"
     ]
    }
   ],
   "source": []
  },
  {
   "cell_type": "code",
   "execution_count": 1,
   "id": "8ac252cf",
   "metadata": {
    "scrolled": false
   },
   "outputs": [],
   "source": [
    "def get_repos():\n",
    "    base = 'https://github.com/search?p='\n",
    "    end = '&q=bitcoin'\n",
    "    headers = {\"Authorization\": f\"token {env.github_token}\", \"User-Agent\": env.github_username}\n",
    "\n",
    "    suffix_list = []\n",
    "    for page in range(1,6):\n",
    "        page = str(page)\n",
    "        response = get(base+page+end, headers=headers)\n",
    "        soup = BeautifulSoup(response.content, 'html.parser')\n",
    "        for i in range (0,10):\n",
    "            print('adding ', i)\n",
    "            suffix = soup.select('a.v-align-middle')[i]['href'][1:0]\n",
    "            suffix_list.append(suffix)\n",
    "\n",
    "    time.sleep(121)\n",
    "\n",
    "    for page in range(6,11):\n",
    "        page = str(page)\n",
    "        response = get(base+page+end, headers=headers)\n",
    "        soup = BeautifulSoup(response.content, 'html.parser')\n",
    "        for i in range (0,10):\n",
    "            suffix = soup.select('a.v-align-middle')[i]['href'][1:0]\n",
    "            suffix_list.append(suffix)\n",
    "            \n",
    "    return suffix_list"
   ]
  },
  {
   "cell_type": "code",
   "execution_count": 5,
   "id": "dc7fceb0",
   "metadata": {},
   "outputs": [
    {
     "data": {
      "text/plain": [
       "['/bitcoin/bitcoin',\n",
       " '/bitcoinbook/bitcoinbook',\n",
       " '/bitcoinj/bitcoinj',\n",
       " '/bitcoin/bips',\n",
       " '/bitcoinjs/bitcoinjs-lib',\n",
       " '/bitcoin-wallet/bitcoin-wallet',\n",
       " '/spesmilo/electrum',\n",
       " '/etotheipi/BitcoinArmory',\n",
       " '/bitcoin-dot-org/Bitcoin.org',\n",
       " '/jgarzik/cpuminer',\n",
       " '/BitcoinExchangeFH/BitcoinExchangeFH',\n",
       " '/maxme/bitcoin-arbitrage',\n",
       " '/BitcoinUnlimited/BitcoinUnlimited',\n",
       " '/Bitcoin-ABC/bitcoin-abc',\n",
       " '/bisq-network/bisq',\n",
       " '/mobnetic/BitcoinChecker',\n",
       " '/petertodd/python-bitcoinlib',\n",
       " '/bitcoin-abe/bitcoin-abe',\n",
       " '/sipa/bitcoin-seeder',\n",
       " '/imfly/bitcoin-on-nodejs',\n",
       " '/rust-bitcoin/rust-bitcoin',\n",
       " '/trottier/original-bitcoin',\n",
       " '/PiSimo/BitcoinForecast',\n",
       " '/btcpayserver/btcpayserver',\n",
       " '/Bit-Wasp/bitcoin-php',\n",
       " '/bitcoin-core/bitcoincore.org',\n",
       " '/tianmingyun/MasterBitcoin2CN',\n",
       " '/lian/bitcoin-ruby',\n",
       " '/GammaGao/bitcoinwhitepaper',\n",
       " '/kylemanna/docker-bitcoind',\n",
       " '/pointbiz/bitaddress.org',\n",
       " '/jgarzik/python-bitcoinrpc',\n",
       " '/BTCPrivate/BitcoinPrivate-legacy',\n",
       " '/pooler/cpuminer',\n",
       " '/HelloZeroNet/ZeroNet',\n",
       " '/cryptean/bitcoinlib',\n",
       " '/progranism/Open-Source-FPGA-Bitcoin-Miner',\n",
       " '/xiaolai/bitcoin-whitepaper-chinese-translation',\n",
       " '/oleganza/CoreBitcoin',\n",
       " '/bitcoin-sv/bitcoin-sv',\n",
       " '/m0mchil/poclbm',\n",
       " '/jgarzik/pyminer',\n",
       " '/bitcoinxt/bitcoinxt',\n",
       " '/paritytech/parity-bitcoin',\n",
       " '/janoside/btc-rpc-explorer',\n",
       " '/BlockchainCommons/Learning-Bitcoin-from-the-Command-Line',\n",
       " '/bitpay/insight',\n",
       " '/Multibit-Legacy/multibit',\n",
       " '/stratisproject/StratisBitcoinFullNode',\n",
       " '/JulyIghor/QtBitcoinTrader',\n",
       " '/1200wd/bitcoinlib',\n",
       " '/igorbarinov/awesome-bitcoin',\n",
       " '/MetacoSA/NBitcoin',\n",
       " '/BitcoinPHP/BitcoinECDSA.php',\n",
       " '/bitcoincashorg/bitcoincash.org',\n",
       " '/p2pool/p2pool',\n",
       " '/buttercoin/buttercoin',\n",
       " '/benjyz/bitcoinArchive',\n",
       " '/bitpay/bitcore',\n",
       " '/bitpay/bitcoind-rpc',\n",
       " '/lefnire/tforce_btc_trader',\n",
       " '/bitpay/insight-api',\n",
       " '/zquestz/bitcoincash',\n",
       " '/bitpay/bitcore-lib',\n",
       " '/100trillionUSD/bitcoin',\n",
       " '/btcsuite/btcd',\n",
       " '/jashmenn/bitcoin-reading-list',\n",
       " '/ofek/bit',\n",
       " '/breadwallet/breadwallet-core',\n",
       " '/ruimarinho/bitcoin-core',\n",
       " '/davout/bitcoin-central',\n",
       " '/bitpay/bitcore-wallet-service',\n",
       " '/Blockstream/esplora',\n",
       " '/mycelium-com/wallet-android',\n",
       " '/Diablo-D3/DiabloMiner',\n",
       " '/freewil/bitcoin-testnet-box',\n",
       " '/dooglus/intersango',\n",
       " '/Bitlits/Bitcoin-Games',\n",
       " '/butor/blackbird',\n",
       " '/znort987/blockparser',\n",
       " '/kingrock/BitcoinExchange',\n",
       " '/siminchen/bitcoinIDE',\n",
       " '/aceat64/EasyBitcoin-PHP',\n",
       " '/ccxt/ccxt',\n",
       " '/eveybcd/BitcoinDiamond',\n",
       " '/inoutcode/bitcoin_book_2nd',\n",
       " '/libbitcoin/libbitcoin-explorer',\n",
       " '/brandonrobertz/BitcoinTradingAlgorithmToolkit',\n",
       " '/thallium205/BitcoinVisualizer',\n",
       " '/alecalve/python-bitcoin-blockchain-parser',\n",
       " '/LedgerHQ/app-bitcoin',\n",
       " '/chaincodelabs/bitcoin-curriculum',\n",
       " '/bitcoin-core/HWI',\n",
       " '/SegwitB2X/bitcoin2x',\n",
       " '/llSourcell/bitcoin_prediction',\n",
       " '/ruimarinho/docker-bitcoin-core',\n",
       " '/libbitcoin/libbitcoin-system',\n",
       " '/fkysly/bitcoin0.1.0',\n",
       " '/londonappbrewery/bitcoin-ticker-flutter',\n",
       " '/haskoin/haskoin-core']"
      ]
     },
     "execution_count": 5,
     "metadata": {},
     "output_type": "execute_result"
    }
   ],
   "source": []
  },
  {
   "cell_type": "code",
   "execution_count": 4,
   "id": "56ed9c70",
   "metadata": {},
   "outputs": [
    {
     "data": {
      "text/plain": [
       "100"
      ]
     },
     "execution_count": 4,
     "metadata": {},
     "output_type": "execute_result"
    }
   ],
   "source": [
    "len(suffix_list)"
   ]
  },
  {
   "cell_type": "code",
   "execution_count": 5,
   "id": "6195729c",
   "metadata": {},
   "outputs": [
    {
     "data": {
      "text/plain": [
       "135"
      ]
     },
     "execution_count": 5,
     "metadata": {},
     "output_type": "execute_result"
    }
   ],
   "source": []
  },
  {
   "cell_type": "code",
   "execution_count": 9,
   "id": "aa31b8c9",
   "metadata": {},
   "outputs": [],
   "source": []
  },
  {
   "cell_type": "code",
   "execution_count": 15,
   "id": "83c8be21",
   "metadata": {},
   "outputs": [
    {
     "data": {
      "text/plain": [
       "150"
      ]
     },
     "execution_count": 15,
     "metadata": {},
     "output_type": "execute_result"
    }
   ],
   "source": []
  },
  {
   "cell_type": "code",
   "execution_count": null,
   "id": "72452ed8",
   "metadata": {},
   "outputs": [],
   "source": []
  },
  {
   "cell_type": "code",
   "execution_count": 8,
   "id": "ea323454",
   "metadata": {},
   "outputs": [],
   "source": []
  },
  {
   "cell_type": "code",
   "execution_count": 11,
   "id": "f194678f",
   "metadata": {},
   "outputs": [],
   "source": []
  },
  {
   "cell_type": "code",
   "execution_count": 16,
   "id": "13cc2817",
   "metadata": {},
   "outputs": [
    {
     "data": {
      "text/plain": [
       "[]"
      ]
     },
     "execution_count": 16,
     "metadata": {},
     "output_type": "execute_result"
    }
   ],
   "source": []
  },
  {
   "cell_type": "code",
   "execution_count": 17,
   "id": "0dfd1dd5",
   "metadata": {},
   "outputs": [
    {
     "data": {
      "text/plain": [
       "[]"
      ]
     },
     "execution_count": 17,
     "metadata": {},
     "output_type": "execute_result"
    }
   ],
   "source": []
  },
  {
   "cell_type": "raw",
   "id": "42ecd919",
   "metadata": {},
   "source": []
  },
  {
   "cell_type": "code",
   "execution_count": null,
   "id": "87efb225",
   "metadata": {},
   "outputs": [],
   "source": []
  }
 ],
 "metadata": {
  "kernelspec": {
   "display_name": "Python 3 (ipykernel)",
   "language": "python",
   "name": "python3"
  },
  "language_info": {
   "codemirror_mode": {
    "name": "ipython",
    "version": 3
   },
   "file_extension": ".py",
   "mimetype": "text/x-python",
   "name": "python",
   "nbconvert_exporter": "python",
   "pygments_lexer": "ipython3",
   "version": "3.9.12"
  }
 },
 "nbformat": 4,
 "nbformat_minor": 5
}
